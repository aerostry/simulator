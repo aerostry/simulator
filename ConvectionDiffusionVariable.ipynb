{
 "cells": [
  {
   "cell_type": "markdown",
   "metadata": {},
   "source": [
    "# 12.4. Simulating a partial differential equation — reaction-diffusion systems and Turing patterns"
   ]
  },
  {
   "cell_type": "code",
   "execution_count": 32,
   "metadata": {},
   "outputs": [],
   "source": [
    "import numpy as np\n",
    "import matplotlib.pyplot as plt\n",
    "import matplotlib.animation as animation \n",
    "from PIL import Image\n",
    "import os\n",
    "import math\n",
    "plt.rcParams['animation.ffmpeg_path'] = '/usr/bin/ffmpeg'\n",
    "%matplotlib inline"
   ]
  },
  {
   "cell_type": "code",
   "execution_count": 33,
   "metadata": {},
   "outputs": [],
   "source": [
    "a = 2.8e-4\n",
    "b = 5e-3\n",
    "tau = .1\n",
    "k = -.005\n"
   ]
  },
  {
   "cell_type": "code",
   "execution_count": 34,
   "metadata": {},
   "outputs": [],
   "source": [
    "size = 100  # size of the 2D grid\n",
    "dx = 20 #. / size  # space step"
   ]
  },
  {
   "cell_type": "code",
   "execution_count": 49,
   "metadata": {},
   "outputs": [],
   "source": [
    "T = .5  # total time\n",
    "dt = .001  # time step\n",
    "n = int(T / dt)  # number of iterations\n",
    "\n",
    "sigma = 400 * np.eye(2)\n",
    "#mu = [50, 50]\n",
    "scale = 100/0.03978873577297385\n",
    "\n",
    "def vFunc(x, y):\n",
    "    global size\n",
    "    if y == size / 2:\n",
    "        return [0, 0]\n",
    "    else:\n",
    "        return np.array([(-1 * (x-(size/2))) / (y-(size/2)), (-1 * (x-(size/2))) / (y-(size/2))])\n",
    "    \n",
    "    \n",
    "def buildV(X, Y, scale):\n",
    "    global size\n",
    "    #sgn = lambda x: x/abs(x) if x != 0 else 0\n",
    "    \"\"\"\n",
    "    if x < 0 and y > 0:\n",
    "        return np.array([sgn(x) / 10, -sgn(y) / 10])\n",
    "    elif x < 0 and y < 0:\n",
    "        return np.array([-sgn(x) / 10, sgn(y) / 10])\n",
    "    elif x > 0 and y > 0:\n",
    "        return np.array([-sgn(x) / 10, sgn(y) / 10])\n",
    "    elif x > 0 and y < 0:\n",
    "        return np.array([sgn(x) / 10, -sgn(y) / 10])\n",
    "        \n",
    "    return np.array([0, 0])\n",
    "    \"\"\"\n",
    "    #return (np.ones_like(X) * np.sqrt(.1) + np.sign(X) * .1, np.ones_like(Y) * np.sqrt(.1))\n",
    "    def vx(t):\n",
    "        nonlocal X,Y\n",
    "        return X * 0\n",
    "        #return np.sin(t)*X / np.linalg.norm(X)\n",
    "    def vy(t):\n",
    "        nonlocal scale,X,Y\n",
    "        global T\n",
    "        #return np.sin(t)*Y / np.linalg.norm(Y)\n",
    "        return scale  * np.sin(2*np.pi/T*t)*np.ones_like(Y)\n",
    "    return (vx, vy)\n",
    "    #return (np.ones_like(X) * np.sqrt(scale), np.ones_like(Y) * np.sqrt(scale))\n",
    "    #return (-1 *np.sign(X) * scale, Y*0)\n",
    "\n",
    "\n",
    "def buildC(mu, scale):\n",
    "    return np.array([[scale * np.exp(-.5 * (np.array([i,j]) - mu).T @ (np.linalg.inv(sigma) @ (np.array([i,j]) - mu ))) / (np.sqrt((2 * np.pi)**2 * np.linalg.det(sigma))) for j in range(size + 1)] for i in range(size + 1)])\n",
    "    "
   ]
  },
  {
   "cell_type": "code",
   "execution_count": 50,
   "metadata": {},
   "outputs": [
    {
     "name": "stdout",
     "output_type": "stream",
     "text": [
      "[[-50 -49 -48 ...  48  49  50]\n",
      " [-50 -49 -48 ...  48  49  50]\n",
      " [-50 -49 -48 ...  48  49  50]\n",
      " ...\n",
      " [-50 -49 -48 ...  48  49  50]\n",
      " [-50 -49 -48 ...  48  49  50]\n",
      " [-50 -49 -48 ...  48  49  50]]\n",
      "[[-50 -50 -50 ... -50 -50 -50]\n",
      " [-49 -49 -49 ... -49 -49 -49]\n",
      " [-48 -48 -48 ... -48 -48 -48]\n",
      " ...\n",
      " [ 48  48  48 ...  48  48  48]\n",
      " [ 49  49  49 ...  49  49  49]\n",
      " [ 50  50  50 ...  50  50  50]]\n",
      "<function buildV.<locals>.vx at 0x7f50faeb8d08>\n",
      "<function buildV.<locals>.vy at 0x7f50fae6a488>\n",
      "(101, 101)\n"
     ]
    },
    {
     "data": {
      "text/plain": [
       "<matplotlib.axes._subplots.AxesSubplot at 0x7f50fae68c50>"
      ]
     },
     "execution_count": 50,
     "metadata": {},
     "output_type": "execute_result"
    },
    {
     "data": {
      "image/png": "[encoded data removed]",
      "text/plain": [
       "<Figure size 432x288 with 2 Axes>"
      ]
     },
     "metadata": {
      "needs_background": "light"
     },
     "output_type": "display_data"
    }
   ],
   "source": [
    "#v = np.array(np.array([[sinFunc(x, y) for x in range(int(-1*size/2), int(size/2))] for y in range(int(-1*size/2), int(size/2))]))\n",
    "grid = np.meshgrid(np.arange(-50, 51, 1), np.arange(-50, 51, 1))\n",
    "X, Y = grid\n",
    "print(X)\n",
    "print(Y)\n",
    "vx, vy = buildV(X, Y, .2)\n",
    "print(vx)\n",
    "print(vy)\n",
    "\n",
    "c = (buildC((25, 50), scale) + buildC((75, 50), scale)) / 2\n",
    "#c = np.array([[scale * np.exp(-.5 * (np.array([i,j]) - mu).T @ (np.linalg.inv(sigma) @ (np.array([i,j]) - mu ))) / (np.sqrt((2 * np.pi)**2 * np.linalg.det(sigma))) for j in range(size + 1)] for i in range(size + 1)])\n",
    "print(c.shape)\n",
    "#print(v)\n",
    "#v[50, 50] = 0\n",
    "#v = np.full((100, 100), 1)\n",
    "#v.shape()\n",
    "#print(v)\n",
    "#i = np.full((100,100,2),.05)\n",
    "#print(type(i))\n",
    "#print(type(i[0]))\n",
    "#print(type(i[0][0]))\n",
    "#print(i)\n",
    "#print(i.shape)\n",
    "d = np.full((101,101),16)\n",
    "#print(np.max(c))\n",
    "import seaborn as sns\n",
    "sns.heatmap(c)\n",
    "#sns.heatmap(v[0])"
   ]
  },
  {
   "cell_type": "raw",
   "metadata": {},
   "source": []
  },
  {
   "cell_type": "code",
   "execution_count": 51,
   "metadata": {},
   "outputs": [],
   "source": [
    "def laplacian(Z):\n",
    "    Ztop = Z[0:-2, 1:-1]\n",
    "    Zleft = Z[1:-1, 0:-2]\n",
    "    Zbottom = Z[2:, 1:-1]\n",
    "    Zright = Z[1:-1, 2:]\n",
    "    Zcenter = Z[1:-1, 1:-1]\n",
    "    return (Ztop + Zleft + Zbottom + Zright -\n",
    "            4 * Zcenter) / dx**2\n",
    "def grad(Z):\n",
    "    Ztop = Z[0:-2, 1:-1]\n",
    "    Zleft = Z[1:-1, 0:-2]\n",
    "    Zbottom = Z[2:, 1:-1]\n",
    "    Zright = Z[1:-1, 2:]\n",
    "    Zcenter = Z[1:-1, 1:-1]\n",
    "    Zg = np.array([[[(Zright[i][j] - Zleft[i][j])/(2*dx), (Ztop[i][j] - Zbottom[i][j]) / (2*dx)] for j in range(len(Ztop))] for i in range(len(Ztop))])\n",
    "    Zg = np.pad(Zg, ((1,1),(1,1),(0,0)), 'constant')\n",
    "    \n",
    "    return Zg    \n",
    "\n",
    "def firstTerm(D, c):\n",
    "    gD = grad(D)\n",
    "    gc = grad(c)\n",
    "    ggcx = grad(gc[:, :, 0])\n",
    "    ggcy = grad(gc[:, :, 1])\n",
    "    \n",
    "    Dx = gD[:, :, 0]\n",
    "    Dy = gD[:, :, 1]\n",
    "    cx = gc[:, :, 0]\n",
    "    cy = gc[:, :, 1]\n",
    "    cxx = ggcx[:, :, 0]\n",
    "    cyy = ggcy[:, :, 1]\n",
    "    \n",
    "    return Dx*cx + D*cxx + Dy*cy + D*cyy\n",
    "\n",
    "\"\"\"\"def secondTerm(v, c):\n",
    "    \n",
    "    gc = grad(c)\n",
    "    \n",
    "    xv = v[:, :, 0]\n",
    "    yv = v[:, :, 1]\n",
    "    \n",
    "    gv = grad(xv)\n",
    "    \n",
    "    cx = gc[:, :, 0]\n",
    "    cy = gc[:, :, 1]\n",
    "    xvx = grad(xv)[:, :, 0]\n",
    "    yvy = grad(yv)[:, :, 1]\n",
    "    \n",
    "    return cx*xv + c*xvx + cy*yv + c*yvy\"\"\"\n",
    "\n",
    "\n",
    "def secondTerm(vx, vy, c):\n",
    "    \n",
    "    gc = grad(c)\n",
    "    \n",
    "    xv = vx\n",
    "    yv = vy\n",
    "    \n",
    "    gv = grad(xv)\n",
    "    \n",
    "    cx = gc[:, :, 0]\n",
    "    cy = gc[:, :, 1]\n",
    "    xvx = grad(xv)[:, :, 0]\n",
    "    yvy = grad(yv)[:, :, 1]\n",
    "    \n",
    "    return cx*xv + c*xvx + cy*yv + c*yvy"
   ]
  },
  {
   "cell_type": "code",
   "execution_count": null,
   "metadata": {},
   "outputs": [],
   "source": []
  },
  {
   "cell_type": "code",
   "execution_count": null,
   "metadata": {
    "podoc": {
     "output_text": "<matplotlib.figure.Figure at 0x7fc0438c4cf8>"
    },
    "scrolled": true
   },
   "outputs": [
    {
     "name": "stdout",
     "output_type": "stream",
     "text": [
      "0\n",
      "42\n",
      "84\n",
      "126\n",
      "168\n"
     ]
    }
   ],
   "source": [
    "#fig, axes = plt.subplots(6, 3, figsize=(8, 8))\n",
    "\n",
    "step_plot = round(n / (24*T)) #n // (2*int(T))\n",
    "\n",
    "fig = plt.figure()\n",
    "ims = []\n",
    "frames = []\n",
    "# We simulate the PDE with the finite difference\n",
    "# method.\n",
    "for i in range(n):\n",
    "    # We compute the Laplacian of u and v.\n",
    "    if not i%step_plot:\n",
    "        print(i)\n",
    "    #div(D*grad(c)) - div(v*c) + R\n",
    "    time = i*dt\n",
    "    deltaC = firstTerm(d,c) - secondTerm(vx(time), vy(time),c)\n",
    "    \n",
    "    c[1:-1,1:-1] = c[1:-1,1:-1] + d[1:-1,1:-1] * deltaC[1:-1,1:-1]\n",
    "    \n",
    "    #deltaU = laplacian(U)\n",
    "    #deltaV = laplacian(V)\n",
    "    # We take the values of u and v inside the grid.\n",
    "    #Uc = U[1:-1, 1:-1]\n",
    "    #Vc = V[1:-1, 1:-1]\n",
    "    # We update the variables.\n",
    "    \n",
    "    #c[1:-1, 1:-1] = -2 * c_row + deltaC * \n",
    "    \n",
    "    \n",
    "    #U[1:-1, 1:-1], V[1:-1, 1:-1] = \\\n",
    "     #   Uc + dt * (a * deltaU + Uc - Uc**3 - Vc + k),\\\n",
    "      #  Vc + dt * (b * deltaV + Uc - Vc) / tau\n",
    "    # Neumann conditions: derivatives at the edges\n",
    "    # are null.\n",
    "    c[0] = c[1]\n",
    "    c[-1] = c[-2]\n",
    "    for Z in (c[1:-1, :]):\n",
    "        Z[0] = Z[1]\n",
    "        Z[-1] = Z[-2]\n",
    "\n",
    "\n",
    "    # We plot the state of the system at\n",
    "    # 9 different times.\n",
    "    if i % step_plot == 0:# and i < 9 * step_plot:\n",
    "        #ax = axes.flat[i // step_plot]\n",
    "        #fname = 'img' + i\n",
    "        #img = Image.fromarray(c, 'RGB')\n",
    "        ims.append(np.copy(c))\n",
    "        #ims.append(show_patterns(c))\n",
    "        #ax.set_title(f'$t={i * dt:.2f}$')\n"
   ]
  },
  {
   "cell_type": "code",
   "execution_count": 41,
   "metadata": {
    "scrolled": true
   },
   "outputs": [
    {
     "name": "stdout",
     "output_type": "stream",
     "text": [
      "12\n"
     ]
    },
    {
     "data": {
      "text/plain": [
       "0"
      ]
     },
     "execution_count": 41,
     "metadata": {},
     "output_type": "execute_result"
    },
    {
     "data": {
      "image/png": "[encoded data removed]",
      "text/plain": [
       "<Figure size 432x288 with 1 Axes>"
      ]
     },
     "metadata": {
      "needs_background": "light"
     },
     "output_type": "display_data"
    }
   ],
   "source": [
    "#print(len(ims))\n",
    "#for c in ims:\n",
    "#    print(c)\n",
    "\n",
    "\n",
    "plt.imshow(ims[0], cmap = plt.cm.copper, animated=True)\n",
    "\n",
    "plt.imshow(ims[1], cmap = plt.cm.copper, animated=True)\n",
    "plt.imshow(ims[4], cmap = plt.cm.copper, animated=True)\n",
    "    \n",
    "#plt.imshow(ims[1], cmap = plt.cm.copper, animated=True)\n",
    "#plt.imshow(ims[2], cmap = plt.cm.copper, animated=True)\n",
    "\n",
    "ims = ims[:12]\n",
    "print(len(ims))\n",
    "for i in range(len(ims)):\n",
    "    plt.imshow(ims[i], cmap = plt.cm.copper, animated=True, vmin = 0, vmax = 1)\n",
    "    plt.savefig(str(i) + '.png')\n",
    "    \n",
    "    frames.append([plt.imshow(ims[i], cmap = plt.cm.copper, animated=True)])\n",
    "os.system(\"ffmpeg -r 24 -i %01d.png -vcodec mpeg4 -y movie.mp4\")\n"
   ]
  },
  {
   "cell_type": "code",
   "execution_count": 42,
   "metadata": {},
   "outputs": [
    {
     "data": {
      "text/plain": [
       "<matplotlib.image.AxesImage at 0x7f50faedb198>"
      ]
     },
     "execution_count": 42,
     "metadata": {},
     "output_type": "execute_result"
    },
    {
     "data": {
      "image/png": "[encoded data removed]",
      "text/plain": [
       "<Figure size 432x288 with 1 Axes>"
      ]
     },
     "metadata": {
      "needs_background": "light"
     },
     "output_type": "display_data"
    }
   ],
   "source": [
    "plt.imshow(ims[11], cmap = plt.cm.copper, animated=True)\n"
   ]
  },
  {
   "cell_type": "code",
   "execution_count": 43,
   "metadata": {},
   "outputs": [
    {
     "data": {
      "text/plain": [
       "[[<matplotlib.image.AxesImage at 0x7f5100033710>],\n",
       " [<matplotlib.image.AxesImage at 0x7f5100250fd0>],\n",
       " [<matplotlib.image.AxesImage at 0x7f5100082c18>],\n",
       " [<matplotlib.image.AxesImage at 0x7f51000653c8>],\n",
       " [<matplotlib.image.AxesImage at 0x7f510008d828>],\n",
       " [<matplotlib.image.AxesImage at 0x7f51001dd1d0>],\n",
       " [<matplotlib.image.AxesImage at 0x7f5100110668>],\n",
       " [<matplotlib.image.AxesImage at 0x7f510003fbe0>],\n",
       " [<matplotlib.image.AxesImage at 0x7f51000dc8d0>],\n",
       " [<matplotlib.image.AxesImage at 0x7f5100082668>],\n",
       " [<matplotlib.image.AxesImage at 0x7f51000dc240>],\n",
       " [<matplotlib.image.AxesImage at 0x7f51000517b8>],\n",
       " [<matplotlib.image.AxesImage at 0x7f51000dc160>],\n",
       " [<matplotlib.image.AxesImage at 0x7f51000407b8>],\n",
       " [<matplotlib.image.AxesImage at 0x7f50fafd62e8>],\n",
       " [<matplotlib.image.AxesImage at 0x7f50faf5dc88>],\n",
       " [<matplotlib.image.AxesImage at 0x7f50fafe2748>],\n",
       " [<matplotlib.image.AxesImage at 0x7f5100165c50>],\n",
       " [<matplotlib.image.AxesImage at 0x7f50faf4df28>],\n",
       " [<matplotlib.image.AxesImage at 0x7f50faf62cf8>],\n",
       " [<matplotlib.image.AxesImage at 0x7f50faf447f0>],\n",
       " [<matplotlib.image.AxesImage at 0x7f50faf62390>],\n",
       " [<matplotlib.image.AxesImage at 0x7f50faf5d7f0>],\n",
       " [<matplotlib.image.AxesImage at 0x7f50faf62908>]]"
      ]
     },
     "execution_count": 43,
     "metadata": {},
     "output_type": "execute_result"
    }
   ],
   "source": [
    "frames"
   ]
  },
  {
   "cell_type": "code",
   "execution_count": 44,
   "metadata": {},
   "outputs": [],
   "source": [
    "\n",
    "\n",
    "ani = animation.ArtistAnimation(fig, frames, interval=50, blit=True, repeat_delay=1000)\n",
    "plt.show()"
   ]
  },
  {
   "cell_type": "code",
   "execution_count": 45,
   "metadata": {
    "podoc": {
     "output_text": "<matplotlib.figure.Figure at 0x70db8d0>"
    }
   },
   "outputs": [],
   "source": [
    "#fig, ax = plt.subplots(1, 1, figsize=(8, 8))\n",
    "#show_patterns(c, ax=ax)\n",
    "FFwriter=animation.FFMpegWriter(fps=24, extra_args=['-vcodec', 'libx264'])\n",
    "ani.save(\"movie.mp4\", writer=FFwriter)\n",
    "plt.show()"
   ]
  },
  {
   "cell_type": "code",
   "execution_count": 46,
   "metadata": {},
   "outputs": [
    {
     "data": {
      "text/plain": [
       "0.0"
      ]
     },
     "execution_count": 46,
     "metadata": {},
     "output_type": "execute_result"
    }
   ],
   "source": [
    "math.copysign(0,1)"
   ]
  },
  {
   "cell_type": "code",
   "execution_count": 47,
   "metadata": {
    "scrolled": true
   },
   "outputs": [],
   "source": [
    "def show_patterns(U):\n",
    "    #fig, ax = plt.subplots()\n",
    "    X, Y = np.meshgrid(np.arange(-50, 51, 10), np.arange(-50, 51, 10))\n",
    "    A, B = buildV(X,Y, .1)\n",
    "    \n",
    "    plt.quiver(X, Y, A(1), B(1), zorder = 0)\n",
    "    #plt.imshow(U, cmap=plt.cm.copper,\n",
    "     #         interpolation='bilinear',\n",
    "      #        extent=[-1, 1, -1, 1], zorder = 1)\n",
    "    \n",
    "    #sns.heatmap(U)\n",
    "    plt.axis('off')"
   ]
  },
  {
   "cell_type": "code",
   "execution_count": 48,
   "metadata": {},
   "outputs": [
    {
     "data": {
      "image/png": "[encoded data removed]",
      "text/plain": [
       "<Figure size 432x288 with 1 Axes>"
      ]
     },
     "metadata": {
      "needs_background": "light"
     },
     "output_type": "display_data"
    }
   ],
   "source": [
    "show_patterns(c)"
   ]
  },
  {
   "cell_type": "code",
   "execution_count": null,
   "metadata": {},
   "outputs": [],
   "source": []
  },
  {
   "cell_type": "code",
   "execution_count": null,
   "metadata": {},
   "outputs": [],
   "source": []
  }
 ],
 "metadata": {
  "kernelspec": {
   "display_name": "Python 3",
   "language": "python",
   "name": "python3"
  },
  "language_info": {
   "codemirror_mode": {
    "name": "ipython",
    "version": 3
   },
   "file_extension": ".py",
   "mimetype": "text/x-python",
   "name": "python",
   "nbconvert_exporter": "python",
   "pygments_lexer": "ipython3",
   "version": "3.7.3"
  }
 },
 "nbformat": 4,
 "nbformat_minor": 2
}
