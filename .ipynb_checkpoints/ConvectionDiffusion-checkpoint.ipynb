{
 "cells": [
  {
   "cell_type": "markdown",
   "metadata": {},
   "source": [
    "# 12.4. Simulating a partial differential equation — reaction-diffusion systems and Turing patterns"
   ]
  },
  {
   "cell_type": "code",
   "execution_count": 7,
   "metadata": {},
   "outputs": [],
   "source": [
    "import numpy as np\n",
    "import matplotlib.pyplot as plt\n",
    "import matplotlib.animation as animation \n",
    "from PIL import Image\n",
    "import os\n",
    "import math\n",
    "plt.rcParams['animation.ffmpeg_path'] = '/usr/bin/ffmpeg'\n",
    "%matplotlib inline"
   ]
  },
  {
   "cell_type": "code",
   "execution_count": 8,
   "metadata": {},
   "outputs": [],
   "source": [
    "a = 2.8e-4\n",
    "b = 5e-3\n",
    "tau = .1\n",
    "k = -.005"
   ]
  },
  {
   "cell_type": "code",
   "execution_count": 9,
   "metadata": {},
   "outputs": [],
   "source": [
    "size = 100  # size of the 2D grid\n",
    "dx = 20 #. / size  # space step"
   ]
  },
  {
   "cell_type": "code",
   "execution_count": 10,
   "metadata": {},
   "outputs": [],
   "source": [
    "T = 5  # total time\n",
    "dt = .001  # time step\n",
    "n = int(T / dt)  # number of iterations\n",
    "\n",
    "sigma = 400 * np.eye(2)\n",
    "mu = [50, 50]\n",
    "scale = 100/0.03978873577297385\n",
    "\n",
    "def vFunc(x, y):\n",
    "    global size\n",
    "    if y == size / 2:\n",
    "        return [0, 0]\n",
    "    else:\n",
    "        return np.array([(-1 * (x-(size/2))) / (y-(size/2)), (-1 * (x-(size/2))) / (y-(size/2))])\n",
    "    \n",
    "    \n",
    "def sinFunc(x, y):\n",
    "    global size\n",
    "    func = lambda x: math.copysign(1, x)\n",
    "    return np.array([-1 * func(x), func(y)])\n",
    "    "
   ]
  },
  {
   "cell_type": "code",
   "execution_count": 11,
   "metadata": {},
   "outputs": [
    {
     "name": "stdout",
     "output_type": "stream",
     "text": [
      "[[[-1.  1.]\n",
      "  [-1.  1.]\n",
      "  [-1.  1.]\n",
      "  ...\n",
      "  [-1.  1.]\n",
      "  [-1.  1.]\n",
      "  [-1.  1.]]\n",
      "\n",
      " [[-1.  1.]\n",
      "  [-1.  1.]\n",
      "  [-1.  1.]\n",
      "  ...\n",
      "  [-1.  1.]\n",
      "  [-1.  1.]\n",
      "  [-1.  1.]]\n",
      "\n",
      " [[-1.  1.]\n",
      "  [-1.  1.]\n",
      "  [-1.  1.]\n",
      "  ...\n",
      "  [-1.  1.]\n",
      "  [-1.  1.]\n",
      "  [-1.  1.]]\n",
      "\n",
      " ...\n",
      "\n",
      " [[-1.  1.]\n",
      "  [-1.  1.]\n",
      "  [-1.  1.]\n",
      "  ...\n",
      "  [-1.  1.]\n",
      "  [-1.  1.]\n",
      "  [-1.  1.]]\n",
      "\n",
      " [[-1.  1.]\n",
      "  [-1.  1.]\n",
      "  [-1.  1.]\n",
      "  ...\n",
      "  [-1.  1.]\n",
      "  [-1.  1.]\n",
      "  [-1.  1.]]\n",
      "\n",
      " [[-1.  1.]\n",
      "  [-1.  1.]\n",
      "  [-1.  1.]\n",
      "  ...\n",
      "  [-1.  1.]\n",
      "  [-1.  1.]\n",
      "  [-1.  1.]]]\n",
      "<class 'numpy.ndarray'>\n",
      "<class 'numpy.ndarray'>\n",
      "<class 'numpy.ndarray'>\n",
      "(100, 100, 2)\n",
      "1.0\n"
     ]
    },
    {
     "data": {
      "text/plain": [
       "<matplotlib.axes._subplots.AxesSubplot at 0x7f89363c3668>"
      ]
     },
     "execution_count": 11,
     "metadata": {},
     "output_type": "execute_result"
    },
    {
     "data": {
      "image/png": "[encoded data removed]",
      "text/plain": [
       "<Figure size 432x288 with 2 Axes>"
      ]
     },
     "metadata": {
      "needs_background": "light"
     },
     "output_type": "display_data"
    }
   ],
   "source": [
    "\n",
    "c = np.array([[scale * np.exp(-.5 * (np.array([i,j]) - mu).T @ (np.linalg.inv(sigma) @ (np.array([i,j]) - mu ))) / (np.sqrt((2 * np.pi)**2 * np.linalg.det(sigma))) for j in range(size)] for i in range(size)])\n",
    "v = np.array(np.array([[sinFunc(x, y) for x in range(size)] for y in range(size)]))\n",
    "print(v)\n",
    "#v[50, 50] = 0\n",
    "#v = np.full((100, 100), 1)\n",
    "#v.shape()\n",
    "#print(v)\n",
    "i = np.full((100,100,2),.05)\n",
    "print(type(i))\n",
    "print(type(i[0]))\n",
    "print(type(i[0][0]))\n",
    "#print(i)\n",
    "print(i.shape)\n",
    "d = np.full((100,100),16)\n",
    "print(np.max(c))\n",
    "import seaborn as sns\n",
    "sns.heatmap(c)\n",
    "#sns.heatmap(v)"
   ]
  },
  {
   "cell_type": "raw",
   "metadata": {},
   "source": []
  },
  {
   "cell_type": "code",
   "execution_count": 12,
   "metadata": {},
   "outputs": [],
   "source": [
    "def laplacian(Z):\n",
    "    Ztop = Z[0:-2, 1:-1]\n",
    "    Zleft = Z[1:-1, 0:-2]\n",
    "    Zbottom = Z[2:, 1:-1]\n",
    "    Zright = Z[1:-1, 2:]\n",
    "    Zcenter = Z[1:-1, 1:-1]\n",
    "    return (Ztop + Zleft + Zbottom + Zright -\n",
    "            4 * Zcenter) / dx**2\n",
    "def grad(Z):\n",
    "    Ztop = Z[0:-2, 1:-1]\n",
    "    Zleft = Z[1:-1, 0:-2]\n",
    "    Zbottom = Z[2:, 1:-1]\n",
    "    Zright = Z[1:-1, 2:]\n",
    "    Zcenter = Z[1:-1, 1:-1]\n",
    "    Zg = np.array([[[(Zright[i][j] - Zleft[i][j])/(2*dx), (Ztop[i][j] - Zbottom[i][j]) / (2*dx)] for j in range(len(Ztop))] for i in range(len(Ztop))])\n",
    "    Zg = np.pad(Zg, ((1,1),(1,1),(0,0)), 'constant')\n",
    "    \n",
    "    return Zg    \n",
    "\n",
    "def firstTerm(D, c):\n",
    "    gD = grad(D)\n",
    "    gc = grad(c)\n",
    "    ggcx = grad(gc[:, :, 0])\n",
    "    ggcy = grad(gc[:, :, 1])\n",
    "    \n",
    "    Dx = gD[:, :, 0]\n",
    "    Dy = gD[:, :, 1]\n",
    "    cx = gc[:, :, 0]\n",
    "    cy = gc[:, :, 1]\n",
    "    cxx = ggcx[:, :, 0]\n",
    "    cyy = ggcy[:, :, 1]\n",
    "    \n",
    "    return Dx*cx + D*cxx + Dy*cy + D*cyy\n",
    "\n",
    "def secondTerm(v, c):\n",
    "    \n",
    "    gc = grad(c)\n",
    "    \n",
    "    xv = v[:, :, 0]\n",
    "    yv = v[:, :, 1]\n",
    "    \n",
    "    gv = grad(xv)\n",
    "    \n",
    "    cx = gc[:, :, 0]\n",
    "    cy = gc[:, :, 1]\n",
    "    xvx = grad(xv)[:, :, 0]\n",
    "    yvy = grad(yv)[:, :, 1]\n",
    "    \n",
    "    return cx*xv + c*xvx + cy*yv + c*yvy"
   ]
  },
  {
   "cell_type": "code",
   "execution_count": 13,
   "metadata": {},
   "outputs": [],
   "source": [
    "def show_patterns(U):\n",
    "    plt.imshow(U, cmap=plt.cm.copper,\n",
    "              interpolation='bilinear',\n",
    "              extent=[-1, 1, -1, 1])\n",
    "    plt.axis('off')\n",
    "    #return img "
   ]
  },
  {
   "cell_type": "code",
   "execution_count": 14,
   "metadata": {
    "podoc": {
     "output_text": "<matplotlib.figure.Figure at 0x7fc0438c4cf8>"
    },
    "scrolled": true
   },
   "outputs": [
    {
     "name": "stdout",
     "output_type": "stream",
     "text": [
      "0\n",
      "42\n",
      "84\n",
      "126\n",
      "168\n",
      "210\n",
      "252\n",
      "294\n",
      "336\n",
      "378\n",
      "420\n",
      "462\n",
      "504\n",
      "546\n",
      "588\n",
      "630\n",
      "672\n",
      "714\n",
      "756\n",
      "798\n",
      "840\n",
      "882\n",
      "924\n",
      "966\n",
      "1008\n",
      "1050\n",
      "1092\n",
      "1134\n",
      "1176\n",
      "1218\n",
      "1260\n",
      "1302\n",
      "1344\n",
      "1386\n",
      "1428\n",
      "1470\n",
      "1512\n"
     ]
    },
    {
     "name": "stderr",
     "output_type": "stream",
     "text": [
      "/home/pedro/anaconda3/lib/python3.7/site-packages/ipykernel_launcher.py:18: RuntimeWarning: overflow encountered in multiply\n",
      "/home/pedro/anaconda3/lib/python3.7/site-packages/ipykernel_launcher.py:15: RuntimeWarning: overflow encountered in double_scalars\n",
      "  from ipykernel import kernelapp as app\n",
      "/home/pedro/anaconda3/lib/python3.7/site-packages/ipykernel_launcher.py:33: RuntimeWarning: invalid value encountered in multiply\n",
      "/home/pedro/anaconda3/lib/python3.7/site-packages/ipykernel_launcher.py:49: RuntimeWarning: invalid value encountered in multiply\n",
      "/home/pedro/anaconda3/lib/python3.7/site-packages/ipykernel_launcher.py:15: RuntimeWarning: invalid value encountered in double_scalars\n",
      "  from ipykernel import kernelapp as app\n",
      "/home/pedro/anaconda3/lib/python3.7/site-packages/ipykernel_launcher.py:49: RuntimeWarning: invalid value encountered in add\n"
     ]
    },
    {
     "name": "stdout",
     "output_type": "stream",
     "text": [
      "1554\n",
      "1596\n",
      "1638\n",
      "1680\n",
      "1722\n",
      "1764\n",
      "1806\n",
      "1848\n",
      "1890\n",
      "1932\n",
      "1974\n",
      "2016\n",
      "2058\n",
      "2100\n",
      "2142\n",
      "2184\n",
      "2226\n",
      "2268\n",
      "2310\n",
      "2352\n",
      "2394\n",
      "2436\n",
      "2478\n",
      "2520\n",
      "2562\n",
      "2604\n",
      "2646\n",
      "2688\n",
      "2730\n",
      "2772\n",
      "2814\n",
      "2856\n",
      "2898\n",
      "2940\n",
      "2982\n",
      "3024\n",
      "3066\n",
      "3108\n",
      "3150\n",
      "3192\n",
      "3234\n",
      "3276\n",
      "3318\n",
      "3360\n",
      "3402\n",
      "3444\n",
      "3486\n",
      "3528\n",
      "3570\n",
      "3612\n",
      "3654\n",
      "3696\n",
      "3738\n",
      "3780\n",
      "3822\n",
      "3864\n",
      "3906\n",
      "3948\n",
      "3990\n",
      "4032\n",
      "4074\n",
      "4116\n",
      "4158\n",
      "4200\n",
      "4242\n",
      "4284\n",
      "4326\n",
      "4368\n",
      "4410\n",
      "4452\n",
      "4494\n",
      "4536\n",
      "4578\n",
      "4620\n",
      "4662\n",
      "4704\n",
      "4746\n",
      "4788\n",
      "4830\n",
      "4872\n",
      "4914\n",
      "4956\n",
      "4998\n"
     ]
    },
    {
     "data": {
      "text/plain": [
       "<Figure size 432x288 with 0 Axes>"
      ]
     },
     "metadata": {},
     "output_type": "display_data"
    }
   ],
   "source": [
    "#fig, axes = plt.subplots(6, 3, figsize=(8, 8))\n",
    "\n",
    "step_plot = round(n / (24*T)) #n // (2*int(T))\n",
    "\n",
    "fig = plt.figure()\n",
    "ims = []\n",
    "frames = []\n",
    "# We simulate the PDE with the finite difference\n",
    "# method.\n",
    "for i in range(n):\n",
    "    # We compute the Laplacian of u and v.\n",
    "    if not i%step_plot:\n",
    "        print(i)\n",
    "    #div(D*grad(c)) - div(v*c) + R\n",
    "    \n",
    "    deltaC = firstTerm(d,c) + secondTerm(v,c)\n",
    "    \n",
    "    c[1:-1,1:-1] = c[1:-1,1:-1] + d[1:-1,1:-1] * deltaC[1:-1,1:-1]\n",
    "    \n",
    "    #deltaU = laplacian(U)\n",
    "    #deltaV = laplacian(V)\n",
    "    # We take the values of u and v inside the grid.\n",
    "    #Uc = U[1:-1, 1:-1]\n",
    "    #Vc = V[1:-1, 1:-1]\n",
    "    # We update the variables.\n",
    "    \n",
    "    #c[1:-1, 1:-1] = -2 * c_row + deltaC * \n",
    "    \n",
    "    \n",
    "    #U[1:-1, 1:-1], V[1:-1, 1:-1] = \\\n",
    "     #   Uc + dt * (a * deltaU + Uc - Uc**3 - Vc + k),\\\n",
    "      #  Vc + dt * (b * deltaV + Uc - Vc) / tau\n",
    "    # Neumann conditions: derivatives at the edges\n",
    "    # are null.\n",
    "    c[0] = c[1]\n",
    "    c[-1] = c[-2]\n",
    "    for Z in (c[1:-1, :]):\n",
    "        Z[0] = Z[1]\n",
    "        Z[-1] = Z[-2]\n",
    "\n",
    "\n",
    "    # We plot the state of the system at\n",
    "    # 9 different times.\n",
    "    if i % step_plot == 0:# and i < 9 * step_plot:\n",
    "        #ax = axes.flat[i // step_plot]\n",
    "        #fname = 'img' + i\n",
    "        #img = Image.fromarray(c, 'RGB')\n",
    "        ims.append(np.copy(c))\n",
    "        #ims.append(show_patterns(c))\n",
    "        #ax.set_title(f'$t={i * dt:.2f}$')\n"
   ]
  },
  {
   "cell_type": "code",
   "execution_count": 15,
   "metadata": {},
   "outputs": [
    {
     "name": "stderr",
     "output_type": "stream",
     "text": [
      "/home/pedro/anaconda3/lib/python3.7/site-packages/matplotlib/image.py:401: RuntimeWarning: overflow encountered in double_scalars\n",
      "  newmin = vmid - dv * fact\n",
      "/home/pedro/anaconda3/lib/python3.7/site-packages/matplotlib/image.py:406: RuntimeWarning: overflow encountered in double_scalars\n",
      "  newmax = vmid + dv * fact\n",
      "/home/pedro/anaconda3/lib/python3.7/site-packages/matplotlib/image.py:397: UserWarning: Warning: converting a masked element to nan.\n",
      "  dv = (np.float64(self.norm.vmax) -\n",
      "/home/pedro/anaconda3/lib/python3.7/site-packages/matplotlib/image.py:398: UserWarning: Warning: converting a masked element to nan.\n",
      "  np.float64(self.norm.vmin))\n",
      "/home/pedro/anaconda3/lib/python3.7/site-packages/matplotlib/image.py:405: UserWarning: Warning: converting a masked element to nan.\n",
      "  a_min = np.float64(newmin)\n",
      "/home/pedro/anaconda3/lib/python3.7/site-packages/matplotlib/image.py:410: UserWarning: Warning: converting a masked element to nan.\n",
      "  a_max = np.float64(newmax)\n",
      "/home/pedro/anaconda3/lib/python3.7/site-packages/matplotlib/colors.py:885: UserWarning: Warning: converting a masked element to nan.\n",
      "  dtype = np.min_scalar_type(value)\n",
      "/home/pedro/anaconda3/lib/python3.7/site-packages/numpy/ma/core.py:713: UserWarning: Warning: converting a masked element to nan.\n",
      "  data = np.array(a, copy=False, subok=subok)\n"
     ]
    },
    {
     "data": {
      "text/plain": [
       "0"
      ]
     },
     "execution_count": 15,
     "metadata": {},
     "output_type": "execute_result"
    },
    {
     "data": {
      "image/png": "[encoded data removed]",
      "text/plain": [
       "<Figure size 432x288 with 1 Axes>"
      ]
     },
     "metadata": {
      "needs_background": "light"
     },
     "output_type": "display_data"
    }
   ],
   "source": [
    "#print(len(ims))\n",
    "#for c in ims:\n",
    "#    print(c)\n",
    "\n",
    "\n",
    "plt.imshow(ims[0], cmap = plt.cm.copper, animated=True)\n",
    "\n",
    "plt.imshow(ims[1], cmap = plt.cm.copper, animated=True)\n",
    "plt.imshow(ims[4], cmap = plt.cm.copper, animated=True)\n",
    "    \n",
    "\n",
    "#plt.imshow(ims[1], cmap = plt.cm.copper, animated=True)\n",
    "#plt.imshow(ims[2], cmap = plt.cm.copper, animated=True)\n",
    "\n",
    "\n",
    "for i in range(len(ims)):\n",
    "    plt.imshow(ims[i], cmap = plt.cm.copper, animated=True)\n",
    "    plt.savefig(str(i) + '.png')\n",
    "    \n",
    "    frames.append([plt.imshow(ims[i], cmap = plt.cm.copper, animated=True)])\n",
    "os.system(\"ffmpeg -r 24 -i %01d.png -vcodec mpeg4 -y movie.mp4\")\n"
   ]
  },
  {
   "cell_type": "code",
   "execution_count": 179,
   "metadata": {},
   "outputs": [
    {
     "data": {
      "text/plain": [
       "<matplotlib.image.AxesImage at 0x7fe6c382f9e8>"
      ]
     },
     "execution_count": 179,
     "metadata": {},
     "output_type": "execute_result"
    },
    {
     "data": {
      "image/png": "[encoded data removed]",
      "text/plain": [
       "<Figure size 432x288 with 1 Axes>"
      ]
     },
     "metadata": {
      "needs_background": "light"
     },
     "output_type": "display_data"
    }
   ],
   "source": [
    "plt.imshow(ims[11], cmap = plt.cm.copper, animated=True)\n"
   ]
  },
  {
   "cell_type": "code",
   "execution_count": 174,
   "metadata": {},
   "outputs": [
    {
     "data": {
      "text/plain": [
       "[[<matplotlib.image.AxesImage at 0x7fe6c3cdec88>],\n",
       " [<matplotlib.image.AxesImage at 0x7fe6c3c35160>],\n",
       " [<matplotlib.image.AxesImage at 0x7fe6c3c35eb8>],\n",
       " [<matplotlib.image.AxesImage at 0x7fe6c3c357b8>],\n",
       " [<matplotlib.image.AxesImage at 0x7fe6c3c35940>],\n",
       " [<matplotlib.image.AxesImage at 0x7fe6c3c35ba8>],\n",
       " [<matplotlib.image.AxesImage at 0x7fe6c3cd4d68>],\n",
       " [<matplotlib.image.AxesImage at 0x7fe6c3cd4a20>],\n",
       " [<matplotlib.image.AxesImage at 0x7fe6c3cd49b0>],\n",
       " [<matplotlib.image.AxesImage at 0x7fe6c3cd4ef0>],\n",
       " [<matplotlib.image.AxesImage at 0x7fe6c3cd4780>],\n",
       " [<matplotlib.image.AxesImage at 0x7fe6c3cd44e0>]]"
      ]
     },
     "execution_count": 174,
     "metadata": {},
     "output_type": "execute_result"
    }
   ],
   "source": [
    "frames"
   ]
  },
  {
   "cell_type": "code",
   "execution_count": 175,
   "metadata": {},
   "outputs": [],
   "source": [
    "\n",
    "\n",
    "ani = animation.ArtistAnimation(fig, frames, interval=50, blit=True, repeat_delay=1000)\n",
    "plt.show()"
   ]
  },
  {
   "cell_type": "code",
   "execution_count": 176,
   "metadata": {
    "podoc": {
     "output_text": "<matplotlib.figure.Figure at 0x70db8d0>"
    }
   },
   "outputs": [],
   "source": [
    "#fig, ax = plt.subplots(1, 1, figsize=(8, 8))\n",
    "#show_patterns(c, ax=ax)\n",
    "FFwriter=animation.FFMpegWriter(fps=24, extra_args=['-vcodec', 'libx264'])\n",
    "ani.save(\"movie.mp4\", writer=FFwriter)\n",
    "plt.show()"
   ]
  },
  {
   "cell_type": "code",
   "execution_count": null,
   "metadata": {},
   "outputs": [],
   "source": []
  }
 ],
 "metadata": {
  "kernelspec": {
   "display_name": "Python 3",
   "language": "python",
   "name": "python3"
  },
  "language_info": {
   "codemirror_mode": {
    "name": "ipython",
    "version": 3
   },
   "file_extension": ".py",
   "mimetype": "text/x-python",
   "name": "python",
   "nbconvert_exporter": "python",
   "pygments_lexer": "ipython3",
   "version": "3.7.3"
  }
 },
 "nbformat": 4,
 "nbformat_minor": 2
}
